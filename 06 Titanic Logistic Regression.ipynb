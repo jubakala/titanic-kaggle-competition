{
 "cells": [
  {
   "cell_type": "markdown",
   "metadata": {
    "id": "pHODOSKjpZ8k"
   },
   "source": [
    "# Logistic Regression"
   ]
  },
  {
   "cell_type": "markdown",
   "metadata": {
    "id": "7CxXR74WpefF"
   },
   "source": [
    "Logistic Regression with the following configuration reached an accuracy of 0.775."
   ]
  },
  {
   "cell_type": "code",
   "execution_count": 1,
   "metadata": {
    "executionInfo": {
     "elapsed": 817,
     "status": "ok",
     "timestamp": 1602693317508,
     "user": {
      "displayName": "Jussi H",
      "photoUrl": "https://lh3.googleusercontent.com/a-/AOh14GhvUUHHpBpoNcz3fQE4SRKODRl1eKr7FjrvdebRSQ=s64",
      "userId": "01605438575348390897"
     },
     "user_tz": -180
    },
    "id": "JkFeH__xmcsc"
   },
   "outputs": [],
   "source": [
    "import pandas as pd\n",
    "import numpy as np"
   ]
  },
  {
   "cell_type": "code",
   "execution_count": 2,
   "metadata": {
    "executionInfo": {
     "elapsed": 1625,
     "status": "ok",
     "timestamp": 1602693318321,
     "user": {
      "displayName": "Jussi H",
      "photoUrl": "https://lh3.googleusercontent.com/a-/AOh14GhvUUHHpBpoNcz3fQE4SRKODRl1eKr7FjrvdebRSQ=s64",
      "userId": "01605438575348390897"
     },
     "user_tz": -180
    },
    "id": "uAmnHeepnuIt"
   },
   "outputs": [],
   "source": [
    "from sklearn.compose import ColumnTransformer\n",
    "from sklearn.preprocessing import OneHotEncoder\n",
    "from sklearn.preprocessing import StandardScaler"
   ]
  },
  {
   "cell_type": "code",
   "execution_count": 3,
   "metadata": {
    "executionInfo": {
     "elapsed": 1625,
     "status": "ok",
     "timestamp": 1602693318323,
     "user": {
      "displayName": "Jussi H",
      "photoUrl": "https://lh3.googleusercontent.com/a-/AOh14GhvUUHHpBpoNcz3fQE4SRKODRl1eKr7FjrvdebRSQ=s64",
      "userId": "01605438575348390897"
     },
     "user_tz": -180
    },
    "id": "k9svyqGxn7JG"
   },
   "outputs": [],
   "source": [
    "from sklearn.model_selection import train_test_split\n",
    "from sklearn.linear_model import LogisticRegression"
   ]
  },
  {
   "cell_type": "code",
   "execution_count": 4,
   "metadata": {
    "executionInfo": {
     "elapsed": 1600,
     "status": "ok",
     "timestamp": 1602693318324,
     "user": {
      "displayName": "Jussi H",
      "photoUrl": "https://lh3.googleusercontent.com/a-/AOh14GhvUUHHpBpoNcz3fQE4SRKODRl1eKr7FjrvdebRSQ=s64",
      "userId": "01605438575348390897"
     },
     "user_tz": -180
    },
    "id": "VUrFRMCCmtP6"
   },
   "outputs": [],
   "source": [
    "dataset = pd.read_csv('dataset.csv')\n",
    "testset = pd.read_csv('testset.csv')\n",
    "# Needed for the final submission file.\n",
    "passenger_ids = pd.read_csv('test.csv')"
   ]
  },
  {
   "cell_type": "code",
   "execution_count": 5,
   "metadata": {
    "executionInfo": {
     "elapsed": 1559,
     "status": "ok",
     "timestamp": 1602693318325,
     "user": {
      "displayName": "Jussi H",
      "photoUrl": "https://lh3.googleusercontent.com/a-/AOh14GhvUUHHpBpoNcz3fQE4SRKODRl1eKr7FjrvdebRSQ=s64",
      "userId": "01605438575348390897"
     },
     "user_tz": -180
    },
    "id": "PM5DJwkUm9k2"
   },
   "outputs": [],
   "source": [
    "# Transform categorical data into one-hot encoded values.\n",
    "def transform_columns(X, test_data, trasformed_cols):\n",
    "    ct = ColumnTransformer(transformers=[('encoder', OneHotEncoder(), trasformed_cols)], remainder='passthrough')\n",
    "\n",
    "    X = np.array(ct.fit_transform(X))\n",
    "    test_data = np.array(ct.transform(test_data))\n",
    "\n",
    "    return X, test_data\n",
    "\n",
    "# Standardize data.\n",
    "def standardize(X_train, X_test, test_data):\n",
    "    sc = StandardScaler()\n",
    "    X_train = sc.fit_transform(X_train)\n",
    "    X_test = sc.transform(X_test)\n",
    "    test_data = sc.transform(test_data)\n",
    "\n",
    "    return X_train, X_test, test_data\n",
    "\n",
    "\n",
    "def create_lr():\n",
    "    return LogisticRegression(random_state = 0)\n",
    "\n",
    "\n",
    "# Save predictions in a file to be submitted to Kaggle.\n",
    "def preds_to_file(test_all, preds, filename):        \n",
    "    output = pd.DataFrame({'PassengerId': test_all.PassengerId, 'Survived': preds})\n",
    "    output.to_csv(filename, index=False)\n",
    "    print(\"Your submission was successfully saved!\", filename)"
   ]
  },
  {
   "cell_type": "code",
   "execution_count": 6,
   "metadata": {
    "executionInfo": {
     "elapsed": 1554,
     "status": "ok",
     "timestamp": 1602693318325,
     "user": {
      "displayName": "Jussi H",
      "photoUrl": "https://lh3.googleusercontent.com/a-/AOh14GhvUUHHpBpoNcz3fQE4SRKODRl1eKr7FjrvdebRSQ=s64",
      "userId": "01605438575348390897"
     },
     "user_tz": -180
    },
    "id": "KlsEc0KQnHdR"
   },
   "outputs": [],
   "source": [
    "X = dataset.iloc[:, 1:].values\n",
    "y = dataset.iloc[:, 0].values\n",
    "test_data = testset.iloc[:,:].values"
   ]
  },
  {
   "cell_type": "code",
   "execution_count": 7,
   "metadata": {
    "colab": {
     "base_uri": "https://localhost:8080/",
     "height": 51
    },
    "executionInfo": {
     "elapsed": 1512,
     "status": "ok",
     "timestamp": 1602693318326,
     "user": {
      "displayName": "Jussi H",
      "photoUrl": "https://lh3.googleusercontent.com/a-/AOh14GhvUUHHpBpoNcz3fQE4SRKODRl1eKr7FjrvdebRSQ=s64",
      "userId": "01605438575348390897"
     },
     "user_tz": -180
    },
    "id": "UbZbfnW2nYyF",
    "outputId": "5db30af9-91ab-4ec9-b399-0de6edbb88a0"
   },
   "outputs": [
    {
     "data": {
      "text/plain": [
       "array([3, 'male', 22.0, 1, 0, 7.25, 'S', 7.0, 'group_2', 1, 'not_alone',\n",
       "       'Mr'], dtype=object)"
      ]
     },
     "execution_count": 7,
     "metadata": {},
     "output_type": "execute_result"
    }
   ],
   "source": [
    "X[0]"
   ]
  },
  {
   "cell_type": "markdown",
   "metadata": {
    "id": "ZlOKyDEGnavy"
   },
   "source": [
    "Columns 0,1,6,8,10,11 are categorical and must be one-hot encoded."
   ]
  },
  {
   "cell_type": "code",
   "execution_count": 8,
   "metadata": {
    "executionInfo": {
     "elapsed": 1510,
     "status": "ok",
     "timestamp": 1602693318326,
     "user": {
      "displayName": "Jussi H",
      "photoUrl": "https://lh3.googleusercontent.com/a-/AOh14GhvUUHHpBpoNcz3fQE4SRKODRl1eKr7FjrvdebRSQ=s64",
      "userId": "01605438575348390897"
     },
     "user_tz": -180
    },
    "id": "WQqKPusvnQuN"
   },
   "outputs": [],
   "source": [
    "X, test_data = transform_columns(X, test_data, [0,1,6,8,10,11])"
   ]
  },
  {
   "cell_type": "code",
   "execution_count": 9,
   "metadata": {
    "executionInfo": {
     "elapsed": 1504,
     "status": "ok",
     "timestamp": 1602693318327,
     "user": {
      "displayName": "Jussi H",
      "photoUrl": "https://lh3.googleusercontent.com/a-/AOh14GhvUUHHpBpoNcz3fQE4SRKODRl1eKr7FjrvdebRSQ=s64",
      "userId": "01605438575348390897"
     },
     "user_tz": -180
    },
    "id": "zmipnjzcnpJ6"
   },
   "outputs": [],
   "source": [
    "X_train, X_test, y_train, y_test = train_test_split(X, y, test_size = 0.3, random_state=0)"
   ]
  },
  {
   "cell_type": "markdown",
   "metadata": {
    "id": "8bU9kkRMoA0O"
   },
   "source": [
    "Data must be standardized."
   ]
  },
  {
   "cell_type": "code",
   "execution_count": 10,
   "metadata": {
    "executionInfo": {
     "elapsed": 1768,
     "status": "ok",
     "timestamp": 1602693318593,
     "user": {
      "displayName": "Jussi H",
      "photoUrl": "https://lh3.googleusercontent.com/a-/AOh14GhvUUHHpBpoNcz3fQE4SRKODRl1eKr7FjrvdebRSQ=s64",
      "userId": "01605438575348390897"
     },
     "user_tz": -180
    },
    "id": "PVDiri74n9NB"
   },
   "outputs": [],
   "source": [
    "X_train, X_test, test_data = standardize(X_train, X_test, test_data)"
   ]
  },
  {
   "cell_type": "code",
   "execution_count": 11,
   "metadata": {
    "executionInfo": {
     "elapsed": 1766,
     "status": "ok",
     "timestamp": 1602693318594,
     "user": {
      "displayName": "Jussi H",
      "photoUrl": "https://lh3.googleusercontent.com/a-/AOh14GhvUUHHpBpoNcz3fQE4SRKODRl1eKr7FjrvdebRSQ=s64",
      "userId": "01605438575348390897"
     },
     "user_tz": -180
    },
    "id": "3mob00buoFLW"
   },
   "outputs": [],
   "source": [
    "model = create_lr()"
   ]
  },
  {
   "cell_type": "code",
   "execution_count": 12,
   "metadata": {
    "colab": {
     "base_uri": "https://localhost:8080/",
     "height": 102
    },
    "executionInfo": {
     "elapsed": 1695,
     "status": "ok",
     "timestamp": 1602693318594,
     "user": {
      "displayName": "Jussi H",
      "photoUrl": "https://lh3.googleusercontent.com/a-/AOh14GhvUUHHpBpoNcz3fQE4SRKODRl1eKr7FjrvdebRSQ=s64",
      "userId": "01605438575348390897"
     },
     "user_tz": -180
    },
    "id": "bRq3hcyvoMCj",
    "outputId": "9e0653bc-4ca7-4e5e-d39f-e35693a65f51"
   },
   "outputs": [
    {
     "data": {
      "text/plain": [
       "LogisticRegression(random_state=0)"
      ]
     },
     "execution_count": 12,
     "metadata": {},
     "output_type": "execute_result"
    }
   ],
   "source": [
    "model.fit(X_train, y_train)"
   ]
  },
  {
   "cell_type": "code",
   "execution_count": 13,
   "metadata": {
    "executionInfo": {
     "elapsed": 1688,
     "status": "ok",
     "timestamp": 1602693318595,
     "user": {
      "displayName": "Jussi H",
      "photoUrl": "https://lh3.googleusercontent.com/a-/AOh14GhvUUHHpBpoNcz3fQE4SRKODRl1eKr7FjrvdebRSQ=s64",
      "userId": "01605438575348390897"
     },
     "user_tz": -180
    },
    "id": "9vmpJNL7oS5S"
   },
   "outputs": [],
   "source": [
    "predictions = model.predict(test_data)"
   ]
  },
  {
   "cell_type": "code",
   "execution_count": 14,
   "metadata": {
    "colab": {
     "base_uri": "https://localhost:8080/",
     "height": 34
    },
    "executionInfo": {
     "elapsed": 1667,
     "status": "ok",
     "timestamp": 1602693318595,
     "user": {
      "displayName": "Jussi H",
      "photoUrl": "https://lh3.googleusercontent.com/a-/AOh14GhvUUHHpBpoNcz3fQE4SRKODRl1eKr7FjrvdebRSQ=s64",
      "userId": "01605438575348390897"
     },
     "user_tz": -180
    },
    "id": "Y_k05WK7oXVF",
    "outputId": "97fcad50-83bc-4288-9e3c-9caf641e7a03"
   },
   "outputs": [
    {
     "name": "stdout",
     "output_type": "stream",
     "text": [
      "Your submission was successfully saved! titanic_logistic_regression_01.csv\n"
     ]
    }
   ],
   "source": [
    "preds_to_file(passenger_ids, predictions, 'titanic_logistic_regression_01.csv')"
   ]
  },
  {
   "cell_type": "code",
   "execution_count": null,
   "metadata": {
    "executionInfo": {
     "elapsed": 1664,
     "status": "ok",
     "timestamp": 1602693318596,
     "user": {
      "displayName": "Jussi H",
      "photoUrl": "https://lh3.googleusercontent.com/a-/AOh14GhvUUHHpBpoNcz3fQE4SRKODRl1eKr7FjrvdebRSQ=s64",
      "userId": "01605438575348390897"
     },
     "user_tz": -180
    },
    "id": "WNoW81hgsdOY"
   },
   "outputs": [],
   "source": []
  }
 ],
 "metadata": {
  "colab": {
   "authorship_tag": "ABX9TyMlywQZDhovIVu94h8g8/6D",
   "name": "06 Titanic Logistic Regression.ipynb",
   "provenance": [
    {
     "file_id": "19bcIWD-kTYwoVgos1g0hL5CBoIYG3_rc",
     "timestamp": 1602693209791
    },
    {
     "file_id": "1MDoGsHZiur7BDrDoL5l4bqaeEFu7Nnkh",
     "timestamp": 1602692946491
    },
    {
     "file_id": "17jinvtBQawuWxgeGkD3LUndFswqx1XUH",
     "timestamp": 1602692709956
    },
    {
     "file_id": "1w_MuersKPbbFn6J0YLplVBwX3moYT36E",
     "timestamp": 1602690496506
    }
   ]
  },
  "kernelspec": {
   "display_name": "Python 3",
   "language": "python",
   "name": "python3"
  },
  "language_info": {
   "codemirror_mode": {
    "name": "ipython",
    "version": 3
   },
   "file_extension": ".py",
   "mimetype": "text/x-python",
   "name": "python",
   "nbconvert_exporter": "python",
   "pygments_lexer": "ipython3",
   "version": "3.8.3"
  }
 },
 "nbformat": 4,
 "nbformat_minor": 4
}
